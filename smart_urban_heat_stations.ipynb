{
 "cells": [
  {
   "metadata": {},
   "cell_type": "markdown",
   "source": "# Get all stations",
   "id": "4a09a3c3a80d2c5d"
  },
  {
   "metadata": {
    "ExecuteTime": {
     "end_time": "2024-07-16T10:59:36.566350Z",
     "start_time": "2024-07-16T10:59:34.860802Z"
    }
   },
   "cell_type": "code",
   "source": [
    "import requests \n",
    "import geopandas as gpd "
   ],
   "id": "c1dd2bcd8a65fc57",
   "outputs": [],
   "execution_count": 1
  },
  {
   "metadata": {
    "ExecuteTime": {
     "end_time": "2024-07-16T10:59:37.338703Z",
     "start_time": "2024-07-16T10:59:37.327133Z"
    }
   },
   "cell_type": "code",
   "source": [
    "def get_stations() -> gpd.GeoDataFrame:\n",
    "    response = requests.get(\n",
    "            url=f\"https://smart-urban-heat-map.ch/api/v2/stations\"\n",
    "    )\n",
    "    stations = gpd.read_file(response.text)\n",
    "\n",
    "    return stations"
   ],
   "id": "85dff24cd9374198",
   "outputs": [],
   "execution_count": 2
  },
  {
   "metadata": {
    "ExecuteTime": {
     "end_time": "2024-07-16T10:59:38.827418Z",
     "start_time": "2024-07-16T10:59:37.723176Z"
    }
   },
   "cell_type": "code",
   "source": "get_stations()",
   "id": "b97522f8463c8a27",
   "outputs": [
    {
     "data": {
      "text/plain": [
       "                       name stationId     latestMeasurementDate  \\\n",
       "0     Ausserholligen 2, ewb     11001 2024-07-16 10:57:05+00:00   \n",
       "1               Bundesplatz     11002 2024-07-16 10:46:22+00:00   \n",
       "2    Breitenrain, Waffenweg     11003 2024-07-16 10:53:24+00:00   \n",
       "3    Schosshaldenfriedhof 2     11004 2024-07-16 10:55:35+00:00   \n",
       "4             Monbijou-Park     11005 2024-07-16 10:51:15+00:00   \n",
       "..                      ...       ...                       ...   \n",
       "135   Spielplatz Stiglimatt     12007 2024-07-16 10:54:09+00:00   \n",
       "136       Sportanlage Grien     12008 2024-07-16 10:45:19+00:00   \n",
       "137    Bahnhofplatz Busswil     12009                       NaT   \n",
       "138        Reitplatz Grünau     12010 2024-07-16 10:48:26+00:00   \n",
       "139               Sigriswil     13001 2024-07-16 10:51:18+00:00   \n",
       "\n",
       "                     geometry  \n",
       "0    POINT (7.40642 46.94542)  \n",
       "1    POINT (7.44353 46.94692)  \n",
       "2    POINT (7.45192 46.96173)  \n",
       "3    POINT (7.47186 46.95339)  \n",
       "4    POINT (7.43462 46.94187)  \n",
       "..                        ...  \n",
       "135   POINT (7.2992 47.07154)  \n",
       "136  POINT (7.29574 47.07508)  \n",
       "137   POINT (7.31932 47.0987)  \n",
       "138  POINT (7.30167 47.07714)  \n",
       "139  POINT (7.71244 46.71345)  \n",
       "\n",
       "[140 rows x 4 columns]"
      ],
      "text/html": [
       "<div>\n",
       "<style scoped>\n",
       "    .dataframe tbody tr th:only-of-type {\n",
       "        vertical-align: middle;\n",
       "    }\n",
       "\n",
       "    .dataframe tbody tr th {\n",
       "        vertical-align: top;\n",
       "    }\n",
       "\n",
       "    .dataframe thead th {\n",
       "        text-align: right;\n",
       "    }\n",
       "</style>\n",
       "<table border=\"1\" class=\"dataframe\">\n",
       "  <thead>\n",
       "    <tr style=\"text-align: right;\">\n",
       "      <th></th>\n",
       "      <th>name</th>\n",
       "      <th>stationId</th>\n",
       "      <th>latestMeasurementDate</th>\n",
       "      <th>geometry</th>\n",
       "    </tr>\n",
       "  </thead>\n",
       "  <tbody>\n",
       "    <tr>\n",
       "      <th>0</th>\n",
       "      <td>Ausserholligen 2, ewb</td>\n",
       "      <td>11001</td>\n",
       "      <td>2024-07-16 10:57:05+00:00</td>\n",
       "      <td>POINT (7.40642 46.94542)</td>\n",
       "    </tr>\n",
       "    <tr>\n",
       "      <th>1</th>\n",
       "      <td>Bundesplatz</td>\n",
       "      <td>11002</td>\n",
       "      <td>2024-07-16 10:46:22+00:00</td>\n",
       "      <td>POINT (7.44353 46.94692)</td>\n",
       "    </tr>\n",
       "    <tr>\n",
       "      <th>2</th>\n",
       "      <td>Breitenrain, Waffenweg</td>\n",
       "      <td>11003</td>\n",
       "      <td>2024-07-16 10:53:24+00:00</td>\n",
       "      <td>POINT (7.45192 46.96173)</td>\n",
       "    </tr>\n",
       "    <tr>\n",
       "      <th>3</th>\n",
       "      <td>Schosshaldenfriedhof 2</td>\n",
       "      <td>11004</td>\n",
       "      <td>2024-07-16 10:55:35+00:00</td>\n",
       "      <td>POINT (7.47186 46.95339)</td>\n",
       "    </tr>\n",
       "    <tr>\n",
       "      <th>4</th>\n",
       "      <td>Monbijou-Park</td>\n",
       "      <td>11005</td>\n",
       "      <td>2024-07-16 10:51:15+00:00</td>\n",
       "      <td>POINT (7.43462 46.94187)</td>\n",
       "    </tr>\n",
       "    <tr>\n",
       "      <th>...</th>\n",
       "      <td>...</td>\n",
       "      <td>...</td>\n",
       "      <td>...</td>\n",
       "      <td>...</td>\n",
       "    </tr>\n",
       "    <tr>\n",
       "      <th>135</th>\n",
       "      <td>Spielplatz Stiglimatt</td>\n",
       "      <td>12007</td>\n",
       "      <td>2024-07-16 10:54:09+00:00</td>\n",
       "      <td>POINT (7.2992 47.07154)</td>\n",
       "    </tr>\n",
       "    <tr>\n",
       "      <th>136</th>\n",
       "      <td>Sportanlage Grien</td>\n",
       "      <td>12008</td>\n",
       "      <td>2024-07-16 10:45:19+00:00</td>\n",
       "      <td>POINT (7.29574 47.07508)</td>\n",
       "    </tr>\n",
       "    <tr>\n",
       "      <th>137</th>\n",
       "      <td>Bahnhofplatz Busswil</td>\n",
       "      <td>12009</td>\n",
       "      <td>NaT</td>\n",
       "      <td>POINT (7.31932 47.0987)</td>\n",
       "    </tr>\n",
       "    <tr>\n",
       "      <th>138</th>\n",
       "      <td>Reitplatz Grünau</td>\n",
       "      <td>12010</td>\n",
       "      <td>2024-07-16 10:48:26+00:00</td>\n",
       "      <td>POINT (7.30167 47.07714)</td>\n",
       "    </tr>\n",
       "    <tr>\n",
       "      <th>139</th>\n",
       "      <td>Sigriswil</td>\n",
       "      <td>13001</td>\n",
       "      <td>2024-07-16 10:51:18+00:00</td>\n",
       "      <td>POINT (7.71244 46.71345)</td>\n",
       "    </tr>\n",
       "  </tbody>\n",
       "</table>\n",
       "<p>140 rows × 4 columns</p>\n",
       "</div>"
      ]
     },
     "execution_count": 3,
     "metadata": {},
     "output_type": "execute_result"
    }
   ],
   "execution_count": 3
  }
 ],
 "metadata": {
  "kernelspec": {
   "display_name": "Python 3",
   "language": "python",
   "name": "python3"
  },
  "language_info": {
   "codemirror_mode": {
    "name": "ipython",
    "version": 2
   },
   "file_extension": ".py",
   "mimetype": "text/x-python",
   "name": "python",
   "nbconvert_exporter": "python",
   "pygments_lexer": "ipython2",
   "version": "2.7.6"
  }
 },
 "nbformat": 4,
 "nbformat_minor": 5
}
